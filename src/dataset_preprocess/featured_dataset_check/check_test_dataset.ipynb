{
 "cells": [
  {
   "cell_type": "code",
   "execution_count": null,
   "id": "0e4c3d21",
   "metadata": {},
   "outputs": [
    {
     "name": "stdout",
     "output_type": "stream",
     "text": [
      "/root/cmpe257/wild_fire\n"
     ]
    }
   ],
   "source": [
    "import pandas as pd\n",
    "import os\n",
    "import sys\n",
    "import numpy as np\n",
    "\n",
    "# Add project path to os.path\n",
    "current_path = os.path.abspath('.')\n",
    "project_name = 'wild_fire' # Change if the project folder name is not the same\n",
    "project_path = os.path.join(current_path.split(project_name)[0], project_name)\n",
    "print(project_path)\n",
    "sys.path.append(project_path)"
   ]
  },
  {
   "cell_type": "code",
   "execution_count": 11,
   "id": "be603196",
   "metadata": {},
   "outputs": [],
   "source": [
    "# Get total data\n",
    "dataset_name = \"test_output_extreme_flags.csv\"\n",
    "df = pd.read_csv(project_path + '/src/dataset_preprocess/featured_dataset_check/' + dataset_name)"
   ]
  },
  {
   "cell_type": "code",
   "execution_count": 12,
   "id": "91955e9a",
   "metadata": {},
   "outputs": [
    {
     "data": {
      "text/plain": [
       "(100, 95)"
      ]
     },
     "execution_count": 12,
     "metadata": {},
     "output_type": "execute_result"
    }
   ],
   "source": [
    "df.shape"
   ]
  },
  {
   "cell_type": "code",
   "execution_count": 15,
   "id": "9b8f1390",
   "metadata": {},
   "outputs": [
    {
     "data": {
      "text/plain": [
       "array([[25.8, 19.7, 20.7, ..., 0, 0, True],\n",
       "       [25.5, 25.3, 24.5, ..., 0, 0, True],\n",
       "       [11.0, 14.5, 14.4, ..., 0, 0, False],\n",
       "       ...,\n",
       "       [25.3, 23.3, 19.4, ..., 0, 0, True],\n",
       "       [10.6, 7.9, 8.4, ..., 0, 0, False],\n",
       "       [16.3, 16.2, 16.5, ..., 0, 0, True]], shape=(100, 95), dtype=object)"
      ]
     },
     "execution_count": 15,
     "metadata": {},
     "output_type": "execute_result"
    }
   ],
   "source": [
    "df.values"
   ]
  }
 ],
 "metadata": {
  "kernelspec": {
   "display_name": "Python 3 (ipykernel)",
   "language": "python",
   "name": "python3"
  },
  "language_info": {
   "codemirror_mode": {
    "name": "ipython",
    "version": 3
   },
   "file_extension": ".py",
   "mimetype": "text/x-python",
   "name": "python",
   "nbconvert_exporter": "python",
   "pygments_lexer": "ipython3",
   "version": "3.10.12"
  }
 },
 "nbformat": 4,
 "nbformat_minor": 5
}
