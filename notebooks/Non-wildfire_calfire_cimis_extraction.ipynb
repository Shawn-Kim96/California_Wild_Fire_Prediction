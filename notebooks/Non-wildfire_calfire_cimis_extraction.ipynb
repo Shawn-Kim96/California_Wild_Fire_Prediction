{
 "cells": [
  {
   "cell_type": "code",
   "execution_count": 11,
   "id": "ebf981ee-6086-4887-97aa-06338ea95078",
   "metadata": {},
   "outputs": [
    {
     "name": "stdout",
     "output_type": "stream",
     "text": [
      "[nan 'Wildfire' 'Fire' 'Flood']\n",
      "Extracted 1260 non-wildfire events.\n"
     ]
    }
   ],
   "source": [
    "import pandas as pd\n",
    "\n",
    "DATA_PATH = \"../data/processed/calfire_cimis_merged.csv\"\n",
    "# Load the dataset\n",
    "df = pd.read_csv(DATA_PATH)\n",
    "\n",
    "# Display unique incident types to understand the categories present\n",
    "print(df['incident_type'].unique())\n",
    "\n",
    "# Filter out wildfire events\n",
    "non_wildfire_df = df[df['incident_type'] != 'Wildfire']\n",
    "\n",
    "# Save the non-wildfire events to a new CSV file\n",
    "non_wildfire_df.to_csv('../data/processed/non-wildfire/non_calfire_cimis_events.csv', index=False)\n",
    "\n",
    "print(f\"Extracted {len(non_wildfire_df)} non-wildfire events.\")\n"
   ]
  }
 ],
 "metadata": {
  "kernelspec": {
   "display_name": "Python 3 (ipykernel)",
   "language": "python",
   "name": "python3"
  },
  "language_info": {
   "codemirror_mode": {
    "name": "ipython",
    "version": 3
   },
   "file_extension": ".py",
   "mimetype": "text/x-python",
   "name": "python",
   "nbconvert_exporter": "python",
   "pygments_lexer": "ipython3",
   "version": "3.10.12"
  }
 },
 "nbformat": 4,
 "nbformat_minor": 5
}
