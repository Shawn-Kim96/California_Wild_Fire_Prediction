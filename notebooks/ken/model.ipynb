{
 "cells": [
  {
   "cell_type": "markdown",
   "metadata": {},
   "source": [
    "# Wild Fire Prediction Model"
   ]
  },
  {
   "cell_type": "markdown",
   "metadata": {},
   "source": [
    "## Setup"
   ]
  },
  {
   "cell_type": "code",
   "execution_count": null,
   "metadata": {},
   "outputs": [
    {
     "ename": "",
     "evalue": "",
     "output_type": "error",
     "traceback": [
      "\u001b[1;31mRunning cells with 'carla0.9.15 (Python 3.8.10)' requires the ipykernel package.\n",
      "\u001b[1;31m<a href='command:jupyter.createPythonEnvAndSelectController'>Create a Python Environment</a> with the required packages.\n",
      "\u001b[1;31mOr install 'ipykernel' using the command: '\"c:/Users/Ken Zhang/PythonVenv/carla0.9.15/Scripts/python.exe\" -m pip install ipykernel -U --force-reinstall'"
     ]
    }
   ],
   "source": [
    "%pip install -r requirements.txt"
   ]
  },
  {
   "cell_type": "code",
   "execution_count": null,
   "metadata": {},
   "outputs": [
    {
     "ename": "",
     "evalue": "",
     "output_type": "error",
     "traceback": [
      "\u001b[1;31mRunning cells with 'carla0.9.15 (Python 3.8.10)' requires the ipykernel package.\n",
      "\u001b[1;31m<a href='command:jupyter.createPythonEnvAndSelectController'>Create a Python Environment</a> with the required packages.\n",
      "\u001b[1;31mOr install 'ipykernel' using the command: '\"c:/Users/Ken Zhang/PythonVenv/carla0.9.15/Scripts/python.exe\" -m pip install ipykernel -U --force-reinstall'"
     ]
    }
   ],
   "source": [
    "import numpy as np\n",
    "import pandas as pd\n",
    "import seaborn as sns\n",
    "import matplotlib.pyplot as plt\n",
    "\n",
    "import torch\n",
    "import torch.nn as nn\n",
    "import torch.optim as optim\n",
    "import torch.nn.functional as F\n",
    "\n",
    "from sklearn.preprocessing import StandardScaler\n",
    "from sklearn.ensemble import RandomForestClassifier, HistGradientBoostingClassifier\n",
    "from sklearn.linear_model import LogisticRegression\n",
    "from sklearn.svm import SVC\n",
    "from sklearn.neighbors import KNeighborsClassifier\n",
    "from sklearn.metrics import mean_squared_error, mean_absolute_error, r2_score\n",
    "from sklearn.metrics import accuracy_score, precision_score, recall_score, f1_score\n",
    "\n",
    "from xgboost import XGBClassifier"
   ]
  },
  {
   "cell_type": "code",
   "execution_count": 3,
   "metadata": {},
   "outputs": [],
   "source": [
    "# Check if GPU is available\n",
    "device = torch.device('cuda' if torch.cuda.is_available() else 'cpu')"
   ]
  },
  {
   "cell_type": "code",
   "execution_count": null,
   "metadata": {},
   "outputs": [],
   "source": [
    "# Put the data in a Dataframe\n",
    "df = pd.read_csv(\"../../data/final_data/total_data.csv\")"
   ]
  },
  {
   "cell_type": "markdown",
   "metadata": {},
   "source": [
    "## Verification"
   ]
  },
  {
   "cell_type": "code",
   "execution_count": 5,
   "metadata": {},
   "outputs": [
    {
     "data": {
      "text/plain": [
       "(4198, 88)"
      ]
     },
     "execution_count": 5,
     "metadata": {},
     "output_type": "execute_result"
    }
   ],
   "source": [
    "# Dataframe shape\n",
    "df.shape"
   ]
  },
  {
   "cell_type": "code",
   "execution_count": 6,
   "metadata": {},
   "outputs": [
    {
     "data": {
      "text/plain": [
       "DayAirTmpAvg01    8\n",
       "DayAirTmpAvg02    8\n",
       "DayAirTmpAvg03    5\n",
       "DayAirTmpAvg04    5\n",
       "DayAirTmpAvg05    6\n",
       "                 ..\n",
       "is_fire           0\n",
       "CBD_VALUE         0\n",
       "EVC_VALUE         0\n",
       "FDIST_VALUE       0\n",
       "FVC_VALUE         0\n",
       "Length: 88, dtype: int64"
      ]
     },
     "execution_count": 6,
     "metadata": {},
     "output_type": "execute_result"
    }
   ],
   "source": [
    "# Checking for null values\n",
    "df.isnull().sum()"
   ]
  },
  {
   "cell_type": "code",
   "execution_count": 7,
   "metadata": {},
   "outputs": [
    {
     "data": {
      "text/plain": [
       "2"
      ]
     },
     "execution_count": 7,
     "metadata": {},
     "output_type": "execute_result"
    }
   ],
   "source": [
    "# Makes sure is_fire only contained 0s and 1s\n",
    "df['is_fire'].nunique()"
   ]
  },
  {
   "cell_type": "code",
   "execution_count": 8,
   "metadata": {},
   "outputs": [
    {
     "name": "stdout",
     "output_type": "stream",
     "text": [
      "Consistent date formats\n"
     ]
    }
   ],
   "source": [
    "# Making sure date format all match\n",
    "try:\n",
    "    pd.to_datetime(df[\"date\"], utc=True)\n",
    "    print(\"Consistent date formats\")\n",
    "except:\n",
    "    print(\"Inconsistent date formats\")"
   ]
  },
  {
   "cell_type": "markdown",
   "metadata": {},
   "source": [
    "## Data Processing"
   ]
  },
  {
   "cell_type": "markdown",
   "metadata": {},
   "source": [
    "### With Deep Learning"
   ]
  },
  {
   "cell_type": "code",
   "execution_count": 9,
   "metadata": {},
   "outputs": [
    {
     "name": "stdout",
     "output_type": "stream",
     "text": [
      "['DayAirTmpAvg01', 'DayAirTmpAvg02', 'DayAirTmpAvg03', 'DayAirTmpAvg04', 'DayAirTmpAvg05', 'DayAirTmpAvg06', 'DayAirTmpAvg07', 'DayAirTmpAvg08', 'DayAirTmpAvg09', 'DayAirTmpAvg10', 'DayAirTmpAvg11', 'DayAirTmpAvg13', 'DayAirTmpAvg14', 'DayPrecip01', 'DayPrecip02', 'DayPrecip04', 'DayPrecip05', 'DayPrecip06', 'DayPrecip07', 'DayPrecip08', 'DayPrecip09', 'DayPrecip11', 'DayPrecip14', 'DayRelHumAvg01', 'DayRelHumAvg02', 'DayRelHumAvg03', 'DayRelHumAvg04', 'DayRelHumAvg05', 'DayRelHumAvg06', 'DayRelHumAvg07', 'DayRelHumAvg08', 'DayRelHumAvg09', 'DayRelHumAvg10', 'DayRelHumAvg11', 'DayRelHumAvg12', 'DayRelHumAvg13', 'DayRelHumAvg14', 'DaySoilTmpAvg01', 'DaySoilTmpAvg02', 'DaySoilTmpAvg03', 'DaySoilTmpAvg04', 'DaySoilTmpAvg05', 'DaySoilTmpAvg06', 'DaySoilTmpAvg07', 'DaySoilTmpAvg08', 'DaySoilTmpAvg09', 'DaySoilTmpAvg10', 'DaySoilTmpAvg11', 'DaySoilTmpAvg12', 'DaySoilTmpAvg13', 'DaySoilTmpAvg14', 'DayWindSpdAvg01', 'DayWindSpdAvg02', 'DayWindSpdAvg04', 'DayWindSpdAvg05', 'DayWindSpdAvg06', 'DayWindSpdAvg07', 'DayWindSpdAvg08', 'DayWindSpdAvg09', 'DayWindSpdAvg11', 'DayWindSpdAvg14']\n"
     ]
    }
   ],
   "source": [
    "columns_to_fix = df.select_dtypes(include='number').columns[df.select_dtypes(include='number').isnull().any()].tolist()\n",
    "print(columns_to_fix)"
   ]
  },
  {
   "cell_type": "code",
   "execution_count": 10,
   "metadata": {},
   "outputs": [],
   "source": [
    "# Simple Autoencoder NN to help with filling in missing data\n",
    "class Autoencoder(nn.Module):\n",
    "    def __init__(self, input_dim):\n",
    "        super(Autoencoder, self).__init__()\n",
    "        self.encoder = nn.Sequential(\n",
    "            nn.Linear(input_dim, 64),\n",
    "            nn.ReLU(),\n",
    "            nn.Linear(64, 32),\n",
    "            nn.ReLU(),\n",
    "            nn.Linear(32,16)\n",
    "        )\n",
    "        self.decoder = nn.Sequential(\n",
    "            nn.Linear(16, 32),\n",
    "            nn.ReLU(),\n",
    "            nn.Linear(32, 64),\n",
    "            nn.ReLU(),\n",
    "            nn.Linear(64, 1)\n",
    "        )\n",
    "    \n",
    "    def forward (self, x):\n",
    "        encoded = self.encoder(x)\n",
    "        decoded = self.decoder(encoded)\n",
    "        return decoded"
   ]
  },
  {
   "cell_type": "code",
   "execution_count": 11,
   "metadata": {},
   "outputs": [],
   "source": [
    "# Training Autoencoder to predict column using other columns as feature\n",
    "def train_autoencoder(X, y, input_dim, num_epochs=30, batch_size=32):\n",
    "    \"\"\"\n",
    "    Parameters:\n",
    "    - X : input features (all cols except target)\n",
    "    - y : target col to predict\n",
    "    - input_dim : number of features in X\n",
    "    - num_epochs : number of epochs\n",
    "    - batch_size : batch size\n",
    "    \"\"\"\n",
    "    model = Autoencoder(input_dim).to(device)\n",
    "    criterion = nn.MSELoss()    # Measure how far model output is from y\n",
    "    optimizer = optim.Adam(model.parameters(), lr=0.001)    # Common use optimizer\n",
    "\n",
    "    # Convert X and y to PyTorch tensors and randomizes the order of the data / epoch\n",
    "    X_tensor = torch.FloatTensor(X).to(device)\n",
    "    y_tensor = torch.FloatTensor(y).reshape(-1, 1).to(device)\n",
    "    dataset = torch.utils.data.TensorDataset(X_tensor, y_tensor)\n",
    "    train_loader = torch.utils.data.DataLoader(dataset, batch_size=batch_size, shuffle=True)\n",
    "\n",
    "    model.train()\n",
    "    for epoch in range(num_epochs):\n",
    "        for batch_X, batch_y in train_loader:\n",
    "            batch_X, batch_y = batch_X.to(device), batch_y.to(device)\n",
    "            optimizer.zero_grad() # Reset gradients\n",
    "            output = model(batch_X) # Forward pass\n",
    "            loss = criterion(output, batch_y) # Compute loss\n",
    "            loss.backward() # Backward pass\n",
    "            optimizer.step() # Update weights\n",
    "\n",
    "        # if (epoch + 1) % 10 == 0:\n",
    "        #     print(f\"Epoch: {epoch + 1}, Loss: {loss.item():.4f}\")\n",
    "            \n",
    "    return model"
   ]
  },
  {
   "cell_type": "code",
   "execution_count": 12,
   "metadata": {},
   "outputs": [],
   "source": [
    "def fill_in_values(df, target_col, other_cols):\n",
    "    \"\"\"\n",
    "    Parameters:\n",
    "    - df : DataFrame to work on\n",
    "    - target_col : col trying to fill\n",
    "    - other_col : all other columns\n",
    "    \"\"\"\n",
    "\n",
    "    # Replace NaNs with 0\n",
    "    X = df[other_cols].fillna(0).values\n",
    "    y = df[target_col].fillna(0).values\n",
    "\n",
    "    # Scales the values with StandardScaler for efficiency and accuracy\n",
    "    scaler_X = StandardScaler()\n",
    "    scaler_y = StandardScaler()\n",
    "    X_scaled = scaler_X.fit_transform(X)\n",
    "    y_scaled = scaler_y.fit_transform(y.reshape(-1, 1)).flatten()\n",
    "\n",
    "    # Model training\n",
    "    model = train_autoencoder(X_scaled, y_scaled, input_dim=len(other_cols))\n",
    "\n",
    "    # Model evaluations\n",
    "    model.eval()\n",
    "    with torch.no_grad():\n",
    "        X_tensor = torch.FloatTensor(X_scaled).to(device)\n",
    "        predictions = model(X_tensor).cpu().numpy().flatten()\n",
    "        predictions = scaler_y.inverse_transform(predictions.reshape(-1, 1)).flatten()\n",
    "    \n",
    "    # Fill in missing values\n",
    "    missing_mask = df[target_col].isna()\n",
    "    df.loc[missing_mask, target_col] = predictions[missing_mask]\n",
    "    \n",
    "    return df"
   ]
  },
  {
   "cell_type": "code",
   "execution_count": 13,
   "metadata": {},
   "outputs": [
    {
     "name": "stdout",
     "output_type": "stream",
     "text": [
      "Filling in values for DayAirTmpAvg\n",
      "Filling in values for DayPrecip\n",
      "Filling in values for DayRelHumAvg\n",
      "Filling in values for DaySoilTmpAvg\n",
      "Filling in values for DayWindSpdAvg\n"
     ]
    },
    {
     "data": {
      "text/plain": [
       "DayAirTmpAvg01    0\n",
       "DayAirTmpAvg02    0\n",
       "DayAirTmpAvg03    0\n",
       "DayAirTmpAvg04    0\n",
       "DayAirTmpAvg05    0\n",
       "                 ..\n",
       "is_fire           0\n",
       "CBD_VALUE         0\n",
       "EVC_VALUE         0\n",
       "FDIST_VALUE       0\n",
       "FVC_VALUE         0\n",
       "Length: 88, dtype: int64"
      ]
     },
     "execution_count": 13,
     "metadata": {},
     "output_type": "execute_result"
    }
   ],
   "source": [
    "for target_col in columns_to_fix:\n",
    "    if target_col[-2:] == \"01\":\n",
    "        print(f\"Filling in values for {target_col[:-2]}\")\n",
    "    other_cols = [col for col in columns_to_fix if col != target_col]\n",
    "    df = fill_in_values(df, target_col, other_cols)\n",
    "\n",
    "df.isnull().sum()"
   ]
  },
  {
   "cell_type": "code",
   "execution_count": 14,
   "metadata": {},
   "outputs": [],
   "source": [
    "numeric_cols = df.select_dtypes(include=['number'])\n",
    "for col in numeric_cols:\n",
    "    Q1 = df[col].quantile(0.25)\n",
    "    Q3 = df[col].quantile(0.75)\n",
    "    IQR = Q3 - Q1\n",
    "    lower_bound = Q1 - (1.5 * IQR)\n",
    "    upper_bound = Q3 + (1.5 * IQR)\n",
    "\n",
    "    df[col] = df[col].clip(lower=lower_bound, upper=upper_bound)"
   ]
  },
  {
   "cell_type": "code",
   "execution_count": 15,
   "metadata": {},
   "outputs": [
    {
     "data": {
      "text/plain": [
       "(4198, 91)"
      ]
     },
     "execution_count": 15,
     "metadata": {},
     "output_type": "execute_result"
    }
   ],
   "source": [
    "df = pd.read_csv('datasets/checkpoint1.csv')\n",
    "df['date'] = pd.to_datetime(df['date'], errors='coerce', utc=True)\n",
    "\n",
    "# Extract features\n",
    "df[f'date_year'] = df['date'].dt.year\n",
    "df[f'date_month'] = df['date'].dt.month\n",
    "df[f'date_day'] = df['date'].dt.day\n",
    "\n",
    "# Fill missing values with mode or a safe fallback\n",
    "for col in [f'date_year', f'date_month', f'date_day']:\n",
    "    if df[col].isna().any():\n",
    "        mode_val = df[col].mode(dropna=True)\n",
    "        fallback = mode_val[0] if not mode_val.empty else 0\n",
    "        df[col] = df[col].fillna(fallback)\n",
    "\n",
    "df.drop('date',axis=1)\n",
    "df.isnull().sum()\n",
    "df.shape"
   ]
  },
  {
   "cell_type": "code",
   "execution_count": 16,
   "metadata": {},
   "outputs": [],
   "source": [
    "df.to_csv('datasets/checkpoint2.csv', index=False)"
   ]
  },
  {
   "cell_type": "markdown",
   "metadata": {},
   "source": [
    "## Prediction Model"
   ]
  },
  {
   "cell_type": "code",
   "execution_count": 17,
   "metadata": {},
   "outputs": [
    {
     "data": {
      "text/html": [
       "<div>\n",
       "<style scoped>\n",
       "    .dataframe tbody tr th:only-of-type {\n",
       "        vertical-align: middle;\n",
       "    }\n",
       "\n",
       "    .dataframe tbody tr th {\n",
       "        vertical-align: top;\n",
       "    }\n",
       "\n",
       "    .dataframe thead th {\n",
       "        text-align: right;\n",
       "    }\n",
       "</style>\n",
       "<table border=\"1\" class=\"dataframe\">\n",
       "  <thead>\n",
       "    <tr style=\"text-align: right;\">\n",
       "      <th></th>\n",
       "      <th>DayAirTmpAvg01</th>\n",
       "      <th>DayAirTmpAvg02</th>\n",
       "      <th>DayAirTmpAvg03</th>\n",
       "      <th>DayAirTmpAvg04</th>\n",
       "      <th>DayAirTmpAvg05</th>\n",
       "      <th>DayAirTmpAvg06</th>\n",
       "      <th>DayAirTmpAvg07</th>\n",
       "      <th>DayAirTmpAvg08</th>\n",
       "      <th>DayAirTmpAvg09</th>\n",
       "      <th>DayAirTmpAvg10</th>\n",
       "      <th>...</th>\n",
       "      <th>wildfire_hazard_potential</th>\n",
       "      <th>acres_burned</th>\n",
       "      <th>is_fire</th>\n",
       "      <th>CBD_VALUE</th>\n",
       "      <th>EVC_VALUE</th>\n",
       "      <th>FDIST_VALUE</th>\n",
       "      <th>FVC_VALUE</th>\n",
       "      <th>date_year</th>\n",
       "      <th>date_month</th>\n",
       "      <th>date_day</th>\n",
       "    </tr>\n",
       "  </thead>\n",
       "  <tbody>\n",
       "    <tr>\n",
       "      <th>0</th>\n",
       "      <td>25.8</td>\n",
       "      <td>19.7</td>\n",
       "      <td>20.7</td>\n",
       "      <td>22.4</td>\n",
       "      <td>23.4</td>\n",
       "      <td>24.8</td>\n",
       "      <td>26.3</td>\n",
       "      <td>22.8</td>\n",
       "      <td>18.9</td>\n",
       "      <td>19.4</td>\n",
       "      <td>...</td>\n",
       "      <td>141</td>\n",
       "      <td>0.0</td>\n",
       "      <td>0</td>\n",
       "      <td>1</td>\n",
       "      <td>251</td>\n",
       "      <td>112</td>\n",
       "      <td>125</td>\n",
       "      <td>2022</td>\n",
       "      <td>6</td>\n",
       "      <td>2</td>\n",
       "    </tr>\n",
       "    <tr>\n",
       "      <th>1</th>\n",
       "      <td>25.5</td>\n",
       "      <td>25.3</td>\n",
       "      <td>24.5</td>\n",
       "      <td>21.9</td>\n",
       "      <td>27.5</td>\n",
       "      <td>28.4</td>\n",
       "      <td>31.0</td>\n",
       "      <td>23.9</td>\n",
       "      <td>24.1</td>\n",
       "      <td>24.6</td>\n",
       "      <td>...</td>\n",
       "      <td>1869</td>\n",
       "      <td>0.0</td>\n",
       "      <td>0</td>\n",
       "      <td>1</td>\n",
       "      <td>251</td>\n",
       "      <td>112</td>\n",
       "      <td>125</td>\n",
       "      <td>2022</td>\n",
       "      <td>8</td>\n",
       "      <td>12</td>\n",
       "    </tr>\n",
       "    <tr>\n",
       "      <th>2</th>\n",
       "      <td>11.0</td>\n",
       "      <td>14.5</td>\n",
       "      <td>14.4</td>\n",
       "      <td>13.1</td>\n",
       "      <td>11.4</td>\n",
       "      <td>11.3</td>\n",
       "      <td>8.8</td>\n",
       "      <td>10.0</td>\n",
       "      <td>9.3</td>\n",
       "      <td>6.3</td>\n",
       "      <td>...</td>\n",
       "      <td>3128</td>\n",
       "      <td>0.0</td>\n",
       "      <td>0</td>\n",
       "      <td>16</td>\n",
       "      <td>166</td>\n",
       "      <td>112</td>\n",
       "      <td>106</td>\n",
       "      <td>2010</td>\n",
       "      <td>1</td>\n",
       "      <td>27</td>\n",
       "    </tr>\n",
       "    <tr>\n",
       "      <th>3</th>\n",
       "      <td>9.3</td>\n",
       "      <td>13.6</td>\n",
       "      <td>14.7</td>\n",
       "      <td>12.2</td>\n",
       "      <td>8.9</td>\n",
       "      <td>9.8</td>\n",
       "      <td>9.5</td>\n",
       "      <td>9.7</td>\n",
       "      <td>9.4</td>\n",
       "      <td>14.2</td>\n",
       "      <td>...</td>\n",
       "      <td>6372</td>\n",
       "      <td>0.0</td>\n",
       "      <td>0</td>\n",
       "      <td>1</td>\n",
       "      <td>351</td>\n",
       "      <td>113</td>\n",
       "      <td>105</td>\n",
       "      <td>2012</td>\n",
       "      <td>12</td>\n",
       "      <td>2</td>\n",
       "    </tr>\n",
       "    <tr>\n",
       "      <th>4</th>\n",
       "      <td>24.9</td>\n",
       "      <td>24.4</td>\n",
       "      <td>26.0</td>\n",
       "      <td>27.5</td>\n",
       "      <td>25.7</td>\n",
       "      <td>24.9</td>\n",
       "      <td>23.9</td>\n",
       "      <td>23.3</td>\n",
       "      <td>22.8</td>\n",
       "      <td>23.3</td>\n",
       "      <td>...</td>\n",
       "      <td>6033</td>\n",
       "      <td>0.0</td>\n",
       "      <td>0</td>\n",
       "      <td>11</td>\n",
       "      <td>176</td>\n",
       "      <td>113</td>\n",
       "      <td>114</td>\n",
       "      <td>2013</td>\n",
       "      <td>9</td>\n",
       "      <td>11</td>\n",
       "    </tr>\n",
       "  </tbody>\n",
       "</table>\n",
       "<p>5 rows × 91 columns</p>\n",
       "</div>"
      ],
      "text/plain": [
       "   DayAirTmpAvg01  DayAirTmpAvg02  DayAirTmpAvg03  DayAirTmpAvg04  \\\n",
       "0            25.8            19.7            20.7            22.4   \n",
       "1            25.5            25.3            24.5            21.9   \n",
       "2            11.0            14.5            14.4            13.1   \n",
       "3             9.3            13.6            14.7            12.2   \n",
       "4            24.9            24.4            26.0            27.5   \n",
       "\n",
       "   DayAirTmpAvg05  DayAirTmpAvg06  DayAirTmpAvg07  DayAirTmpAvg08  \\\n",
       "0            23.4            24.8            26.3            22.8   \n",
       "1            27.5            28.4            31.0            23.9   \n",
       "2            11.4            11.3             8.8            10.0   \n",
       "3             8.9             9.8             9.5             9.7   \n",
       "4            25.7            24.9            23.9            23.3   \n",
       "\n",
       "   DayAirTmpAvg09  DayAirTmpAvg10  ...  wildfire_hazard_potential  \\\n",
       "0            18.9            19.4  ...                        141   \n",
       "1            24.1            24.6  ...                       1869   \n",
       "2             9.3             6.3  ...                       3128   \n",
       "3             9.4            14.2  ...                       6372   \n",
       "4            22.8            23.3  ...                       6033   \n",
       "\n",
       "   acres_burned  is_fire  CBD_VALUE  EVC_VALUE  FDIST_VALUE  FVC_VALUE  \\\n",
       "0           0.0        0          1        251          112        125   \n",
       "1           0.0        0          1        251          112        125   \n",
       "2           0.0        0         16        166          112        106   \n",
       "3           0.0        0          1        351          113        105   \n",
       "4           0.0        0         11        176          113        114   \n",
       "\n",
       "   date_year  date_month  date_day  \n",
       "0       2022           6         2  \n",
       "1       2022           8        12  \n",
       "2       2010           1        27  \n",
       "3       2012          12         2  \n",
       "4       2013           9        11  \n",
       "\n",
       "[5 rows x 91 columns]"
      ]
     },
     "execution_count": 17,
     "metadata": {},
     "output_type": "execute_result"
    }
   ],
   "source": [
    "df = pd.read_csv('datasets/checkpoint2.csv')\n",
    "df.head(5)"
   ]
  },
  {
   "cell_type": "code",
   "execution_count": null,
   "metadata": {},
   "outputs": [],
   "source": [
    "# Split data based on date_year\n",
    "test_condition = df['date_year'] > 2021\n",
    "train_condition = ~test_condition\n",
    "\n",
    "excluded_cols = [\n",
    "    'date',\n",
    "    'is_fire',\n",
    "    'acres_burned',\n",
    "    'burn_probability',\n",
    "    'conditional_flame_length',\n",
    "    'conditional_risk_to_structures',\n",
    "    'distance_km',\n",
    "    'exposure',\n",
    "    'flame_length_exceedance_4ft',\n",
    "    'flame_length_exceedance_8ft',\n",
    "    'risk_to_structures',\n",
    "    'longitude',\n",
    "    'latitude',\n",
    "    'date_year',\n",
    "]\n",
    "\n",
    "# Features and labels\n",
    "feature_cols = [col for col in df.columns if col not in excluded_cols]\n",
    "X = df[feature_cols].values\n",
    "y = df[\"is_fire\"].values.reshape(-1, 1)\n",
    "\n",
    "# Split into train and test sets based on date_year\n",
    "X_train = X[train_condition]\n",
    "X_test = X[test_condition]\n",
    "y_train = y[train_condition]\n",
    "y_test = y[test_condition]\n",
    "\n",
    "# Normalize features\n",
    "scaler = StandardScaler()\n",
    "X_train = scaler.fit_transform(X_train)\n",
    "X_test = scaler.transform(X_test) "
   ]
  },
  {
   "cell_type": "code",
   "execution_count": 94,
   "metadata": {},
   "outputs": [
    {
     "name": "stderr",
     "output_type": "stream",
     "text": [
      "C:\\Users\\Ken Zhang\\AppData\\Local\\Temp\\ipykernel_5584\\4222586818.py:29: UserWarning: The palette list has more values (10) than needed (6), which may not be intended.\n",
      "  sns.barplot(x=\"Metric\", y=\"Score\", hue=\"Model\", data=melted, palette=palette)\n"
     ]
    },
    {
     "data": {
      "image/png": "[encoded data removed]",
      "text/plain": [
       "<Figure size 1000x600 with 1 Axes>"
      ]
     },
     "metadata": {},
     "output_type": "display_data"
    }
   ],
   "source": [
    "models = {\n",
    "    \"Logistic Regression\": LogisticRegression(class_weight='balanced', max_iter=1000),\n",
    "    \"Gradient Boosting\": HistGradientBoostingClassifier(),\n",
    "    \"Random Forest Classifier\": RandomForestClassifier(n_estimators=100, random_state=42),\n",
    "    \"XGBoost\": XGBClassifier(scale_pos_weight=5),\n",
    "    \"SVM\": SVC(kernel='rbf', class_weight='balanced', probability=True),\n",
    "    \"K-Nearest\": KNeighborsClassifier(n_neighbors=5)\n",
    "}\n",
    "\n",
    "results = []\n",
    "for name, model in models.items():\n",
    "    model.fit(X_train, y_train.ravel())\n",
    "    predictions = model.predict(X_test)\n",
    "\n",
    "    results.append({\n",
    "        \"Model\": name,\n",
    "        \"Accuracy\": accuracy_score(y_test, predictions),\n",
    "        \"Precision\": precision_score(y_test, predictions),\n",
    "        \"Recall\": recall_score(y_test, predictions),\n",
    "        \"F1\": f1_score(y_test, predictions)\n",
    "    })\n",
    "\n",
    "results_df = pd.DataFrame(results)\n",
    "melted = results_df.melt(id_vars=\"Model\", var_name=\"Metric\", value_name=\"Score\")\n",
    "palette = sns.color_palette(\"pastel\") \n",
    "\n",
    "plt.figure(figsize=(10, 6))\n",
    "sns.set_theme(style=\"whitegrid\")\n",
    "sns.barplot(x=\"Metric\", y=\"Score\", hue=\"Model\", data=melted, palette=palette)\n",
    "plt.title(\"Performance Comparison by Metric\")\n",
    "plt.ylim(0, 1.05)\n",
    "plt.legend(title=\"Model\", bbox_to_anchor=(1.05, 1), loc='upper left')\n",
    "plt.tight_layout()\n",
    "plt.show()\n"
   ]
  }
 ],
 "metadata": {
  "kernelspec": {
   "display_name": "venv",
   "language": "python",
   "name": "python3"
  },
  "language_info": {
   "codemirror_mode": {
    "name": "ipython",
    "version": 3
   },
   "file_extension": ".py",
   "mimetype": "text/x-python",
   "name": "python",
   "nbconvert_exporter": "python",
   "pygments_lexer": "ipython3",
   "version": "3.11.9"
  }
 },
 "nbformat": 4,
 "nbformat_minor": 2
}
