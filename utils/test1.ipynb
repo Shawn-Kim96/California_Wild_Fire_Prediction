{
 "cells": [
  {
   "cell_type": "code",
   "execution_count": 1,
   "id": "eaa4dbd5-31f7-420f-9604-5d28b2fde008",
   "metadata": {},
   "outputs": [],
   "source": [
    "import pandas as pd\n",
    "import numpy as np\n",
    "import random\n",
    "\n",
    "BASE_PATH = \"/root/cmpe257/wild_fire/data/processed/non_wildfire/\""
   ]
  },
  {
   "cell_type": "code",
   "execution_count": 2,
   "id": "36264b77-8d71-4d66-96af-9241753c1a6a",
   "metadata": {},
   "outputs": [
    {
     "name": "stdout",
     "output_type": "stream",
     "text": [
      "True\n",
      "/root/cmpe257/wild_fire/utils\n"
     ]
    }
   ],
   "source": [
    "import os\n",
    "\n",
    "BASE_PATH = os.path.abspath('.')\n",
    "print(os.path.exists(\"/root/cmpe257/wild_fire/data/processed/non_wildfire/\"))\n",
    "print(os.getcwd())"
   ]
  },
  {
   "cell_type": "code",
   "execution_count": 32,
   "id": "ce7ddfc6-f7b2-4940-9c01-729a7e566a6b",
   "metadata": {},
   "outputs": [
    {
     "name": "stdout",
     "output_type": "stream",
     "text": [
      "Filtered wildfire data saved to 'wildfire_records.csv'.\n"
     ]
    }
   ],
   "source": [
    "\n",
    "# Load the dataset\n",
    "df = pd.read_csv('/root/cmpe257/wild_fire/data/raw/mapdataall.csv')\n",
    "\n",
    "# filtering rows related to wildfires\n",
    "wildfire_data = df[df['incident_type'].str.contains('wildfire', case=False, na=False)]\n",
    "\n",
    "# Save the filtered data to a new CSV file\n",
    "wildfire_data.to_csv(BASE_PATH + 'wildfire_records(debug).csv', index=False)\n",
    "print(f\"Filtered wildfire data saved to 'wildfire_records.csv'.\")"
   ]
  },
  {
   "cell_type": "code",
   "execution_count": 28,
   "id": "ed61bbbf-c60f-46e3-8417-ee96cc1937ba",
   "metadata": {},
   "outputs": [
    {
     "name": "stdout",
     "output_type": "stream",
     "text": [
      "incident_name                        object\n",
      "incident_is_final                    object\n",
      "incident_date_last_update            object\n",
      "incident_date_created                object\n",
      "incident_administrative_unit         object\n",
      "incident_administrative_unit_url    float64\n",
      "incident_county                      object\n",
      "incident_location                    object\n",
      "incident_acres_burned               float64\n",
      "incident_containment                float64\n",
      "incident_control                     object\n",
      "incident_cooperating_agencies        object\n",
      "incident_longitude                  float64\n",
      "incident_latitude                   float64\n",
      "incident_type                        object\n",
      "incident_id                          object\n",
      "incident_url                         object\n",
      "incident_date_extinguished           object\n",
      "incident_dateonly_extinguished       object\n",
      "incident_dateonly_created            object\n",
      "is_active                            object\n",
      "calfire_incident                       bool\n",
      "notification_desired                   bool\n",
      "dtype: object\n"
     ]
    }
   ],
   "source": [
    "print(wildfire_data.dtypes)"
   ]
  }
 ],
 "metadata": {
  "kernelspec": {
   "display_name": "Python 3 (ipykernel)",
   "language": "python",
   "name": "python3"
  },
  "language_info": {
   "codemirror_mode": {
    "name": "ipython",
    "version": 3
   },
   "file_extension": ".py",
   "mimetype": "text/x-python",
   "name": "python",
   "nbconvert_exporter": "python",
   "pygments_lexer": "ipython3",
   "version": "3.10.12"
  }
 },
 "nbformat": 4,
 "nbformat_minor": 5
}
