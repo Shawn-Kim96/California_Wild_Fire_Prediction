{
 "cells": [
  {
   "cell_type": "code",
   "execution_count": null,
   "id": "61e519a4-17b2-4f8f-ac4c-e93e5661f46b",
   "metadata": {},
   "outputs": [
    {
     "data": {
      "text/plain": [
       "Filtered wildfire data saved to 'wildfire_records.csv'.\n"
      ]
     },
     "metadata": {},
     "output_type": "display_data"
    }
   ],
   "source": [
    "import pandas as pd\n",
    "import numpy as np\n",
    "import random\n",
    "\n",
    "BASE_PATH = \"data/processed/non_wildfire/\"\n",
    "\n",
    "# Load the dataset\n",
    "df = pd.read_csv('data/raw/mapdataall.csv')\n",
    "\n",
    "# filtering rows related to wildfires\n",
    "wildfire_data = df[df['incident_type'].str.contains('wildfire', case=False, na=False)]\n",
    "\n",
    "# Save the filtered data to a new CSV file\n",
    "wildfire_data.to_csv(BASE_PATH + 'wildfire_records(debug).csv', index=False)\n",
    "\n",
    "print(f\"Filtered wildfire data saved to 'wildfire_records.csv'.\")\n"
   ]
  },
  {
   "cell_type": "code",
   "execution_count": null,
   "metadata": {},
   "outputs": [
    {
     "data": {
      "text/plain": [
       "Randomly selected missing dates saved to 'non_wildfire_dates.csv'.\n"
      ]
     },
     "metadata": {},
     "output_type": "display_data"
    }
   ],
   "source": [
    "wildfire_dates = pd.to_datetime(wildfire_data['incident_dateonly_created'], errors='coerce').dropna().unique()\n",
    "\n",
    "\n",
    "# range of dates from 2010 to 2025-03-20\n",
    "start_date = pd.to_datetime(\"2010-01-01\")\n",
    "end_date = pd.to_datetime(\"2025-03-20\")\n",
    "date_range = pd.date_range(start=start_date, end=end_date)\n",
    "\n",
    "# Find the dates that did not have wildfire incidents\n",
    "missing_dates = [date for date in date_range if date not in wildfire_dates]\n",
    "\n",
    "# Randomly select twice the number of wildfire incidents from the missing dates\n",
    "num_wildfire_incidents = len(wildfire_dates)\n",
    "random_missing_dates = random.sample(missing_dates, 2 * num_wildfire_incidents)\n",
    "\n",
    "\n",
    "# Randomly select twice the number of wildfire incidents from the missing dates\n",
    "num_wildfire_incidents = len(wildfire_dates)\n",
    "random_missing_dates = random.sample(missing_dates, 2 * num_wildfire_incidents)\n",
    "\n",
    "random_missing_data = []\n",
    "\n",
    "for missing_date in random_missing_dates:\n",
    "    # Randomly select one wildfire incident to associate with the missing date\n",
    "    random_wildfire = wildfire_data.sample(1)\n",
    "    county = random_wildfire['incident_county'].values[0]\n",
    "    latitude = random_wildfire['incident_latitude'].values[0]\n",
    "    longitude = random_wildfire['incident_longitude'].values[0]\n",
    "\n",
    "    # Add to the result list\n",
    "    random_missing_data.append([missing_date, county, latitude, longitude])\n",
    "\n",
    "# Convert to DataFrame and save to CSV\n",
    "missing_df = pd.DataFrame(random_missing_data, columns=[\"date\", \"county\", \"latitude\", \"longitude\"])\n",
    "\n",
    "# Save to CSV file\n",
    "missing_df.to_csv(BASE_PATH + 'non_wildfire_dates.csv', index=False)\n",
    "\n",
    "print(f\"Randomly selected missing dates saved to 'non_wildfire_dates.csv'.\")"
   ]
  },
  {
   "cell_type": "code",
   "execution_count": null,
   "metadata": {},
   "outputs": [],
   "source": [
    "num_rows = len(missing_df)\n",
    "print(f\"Total rows: {num_rows}\")"
   ]
  }
 ],
 "metadata": {
  "kernelspec": {
   "display_name": "Python 3 (ipykernel)",
   "language": "python",
   "name": "python3"
  },
  "language_info": {
   "codemirror_mode": {
    "name": "ipython",
    "version": 3
   },
   "file_extension": ".py",
   "mimetype": "text/x-python",
   "name": "python",
   "nbconvert_exporter": "python",
   "pygments_lexer": "ipython3",
   "version": "3.10.12"
  }
 },
 "nbformat": 4,
 "nbformat_minor": 5
}
