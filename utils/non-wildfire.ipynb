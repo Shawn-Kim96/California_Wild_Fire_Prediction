{
 "cells": [
  {
   "cell_type": "code",
   "execution_count": null,
   "id": "61e519a4-17b2-4f8f-ac4c-e93e5661f46b",
   "metadata": {},
   "outputs": [
    {
     "name": "stdout",
     "output_type": "stream",
     "text": [
      "Filtered wildfire data saved to 'wildfire_records.csv'.\n"
     ]
    }
   ],
   "source": [
    "import pandas as pd\n",
    "import numpy as np\n",
    "import random\n",
    "\n",
    "BASE_PATH = \"data/processed/non_wildfire/\"\n",
    "\n",
    "# Load the dataset\n",
    "df = pd.read_csv('data/raw/mapdataall.csv')\n",
    "\n",
    "# filtering rows related to wildfires\n",
    "wildfire_data = df[df['incident_type'].str.contains('wildfire', case=False, na=False)]\n",
    "\n",
    "# Save the filtered data to a new CSV file\n",
    "wildfire_data.to_csv('data/calfire_cimis_non_wildfire_data/wildfire_records(debug).csv', index=False)\n",
    "\n",
    "print(f\"Filtered wildfire data saved to 'wildfire_records.csv'.\")"
   ]
  },
  {
   "cell_type": "code",
   "execution_count": 17,
   "id": "511573f0-9977-4bb1-b5e0-beb81ac928d1",
   "metadata": {},
   "outputs": [
    {
     "name": "stdout",
     "output_type": "stream",
     "text": [
      "incident_name                        object\n",
      "incident_is_final                    object\n",
      "incident_date_last_update            object\n",
      "incident_date_created                object\n",
      "incident_administrative_unit         object\n",
      "incident_administrative_unit_url    float64\n",
      "incident_county                      object\n",
      "incident_location                    object\n",
      "incident_acres_burned               float64\n",
      "incident_containment                float64\n",
      "incident_control                     object\n",
      "incident_cooperating_agencies        object\n",
      "incident_longitude                  float64\n",
      "incident_latitude                   float64\n",
      "incident_type                        object\n",
      "incident_id                          object\n",
      "incident_url                         object\n",
      "incident_date_extinguished           object\n",
      "incident_dateonly_extinguished       object\n",
      "incident_dateonly_created            object\n",
      "is_active                            object\n",
      "calfire_incident                       bool\n",
      "notification_desired                   bool\n",
      "dtype: object\n"
     ]
    }
   ],
   "source": [
    "print(wildfire_data.dtypes)"
   ]
  },
  {
   "cell_type": "code",
   "execution_count": 18,
   "id": "73b276b3-f656-4bf3-ac09-921f7b03d113",
   "metadata": {},
   "outputs": [],
   "source": [
    "county_intervals = {}\n",
    "for _, row in wildfire_data.iterrows():\n",
    "    county = row['incident_county']\n",
    "    start = pd.to_datetime(row['incident_dateonly_created'], errors='coerce')\n",
    "    end = pd.to_datetime(row['incident_dateonly_extinguished'], errors='coerce')\n",
    "    # Skip rows with invalid dates\n",
    "    if pd.isnull(start) or pd.isnull(end):\n",
    "        continue\n",
    "    if county not in county_intervals:\n",
    "        county_intervals[county] = []\n",
    "    county_intervals[county].append((start, end))\n",
    "\n",
    "# Helper function: Check if a candidate date falls within any interval in a list\n",
    "def is_in_any_interval(date, intervals):\n",
    "    return any(start <= date <= end for start, end in intervals)"
   ]
  },
  {
   "cell_type": "code",
   "execution_count": 19,
   "id": "de1a54c2",
   "metadata": {},
   "outputs": [],
   "source": [
    "# Define overall date range\n",
    "start_date = pd.to_datetime(\"2010-01-01\")\n",
    "end_date = pd.to_datetime(\"2025-03-20\")\n",
    "date_range = pd.date_range(start=start_date, end=end_date)\n",
    "\n",
    "# Determine the number of non-wildfire dates needed (here, twice the number of wildfire incidents)\n",
    "num_wildfire_incidents = len(wildfire_data)\n",
    "random_missing_data = []\n",
    "\n",
    "# Generate candidate dates ensuring they do not fall within the wildfire intervals for the associated county\n",
    "while len(random_missing_data) < 2 * num_wildfire_incidents:\n",
    "    # Randomly select one wildfire incident to get the associated county and location info\n",
    "    random_wildfire = wildfire_data.sample(1).iloc[0]\n",
    "    county = random_wildfire['incident_county']\n",
    "    latitude = random_wildfire['incident_latitude']\n",
    "    longitude = random_wildfire['incident_longitude']\n",
    "    \n",
    "    # Randomly pick a candidate date from the global date range\n",
    "    candidate_date = random.choice(date_range)\n",
    "    \n",
    "    # Retrieve the intervals for the county (if any)\n",
    "    intervals = county_intervals.get(county, [])\n",
    "    \n",
    "    # If the candidate date is not within any wildfire interval, accept it\n",
    "    if not is_in_any_interval(candidate_date, intervals):\n",
    "        random_missing_data.append([candidate_date, county, latitude, longitude])"
   ]
  },
  {
   "cell_type": "code",
   "execution_count": null,
   "id": "c3d00d4c-98e1-4ccf-b0db-2593ba64edd1",
   "metadata": {},
   "outputs": [
    {
     "name": "stdout",
     "output_type": "stream",
     "text": [
      "Randomly selected non-wildfire dates saved to 'non_wildfire_dates.csv'.\n"
     ]
    }
   ],
   "source": [
    "# Convert the collected data into a DataFrame\n",
    "missing_df = pd.DataFrame(random_missing_data, columns=[\"date\", \"county\", \"latitude\", \"longitude\"])\n",
    "\n",
    "# Save the DataFrame to a CSV file\n",
    "missing_df.to_csv('data/calfire_cimis_non_wildfire_data/non_wildfire_dates.csv', index=False)\n",
    "print(f\"Randomly selected non-wildfire dates saved to 'non_wildfire_dates.csv'.\")"
   ]
  },
  {
   "cell_type": "code",
   "execution_count": 21,
   "id": "69a55f96",
   "metadata": {},
   "outputs": [
    {
     "name": "stdout",
     "output_type": "stream",
     "text": [
      "Total rows: 3142\n"
     ]
    }
   ],
   "source": [
    "num_rows = len(missing_df)\n",
    "print(f\"Total rows: {num_rows}\")"
   ]
  }
 ],
 "metadata": {
  "kernelspec": {
   "display_name": "Python 3 (ipykernel)",
   "language": "python",
   "name": "python3"
  },
  "language_info": {
   "codemirror_mode": {
    "name": "ipython",
    "version": 3
   },
   "file_extension": ".py",
   "mimetype": "text/x-python",
   "name": "python",
   "nbconvert_exporter": "python",
   "pygments_lexer": "ipython3",
   "version": "3.10.12"
  }
 },
 "nbformat": 4,
 "nbformat_minor": 5
}
